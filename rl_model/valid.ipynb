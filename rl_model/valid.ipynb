{
 "cells": [
  {
   "cell_type": "code",
   "execution_count": 26,
   "id": "6c9a3442",
   "metadata": {},
   "outputs": [],
   "source": [
    "from stable_baselines3 import PPO\n",
    "from gym import GomokuSelfPlayEnv\n",
    "\n",
    "\n",
    "board_size = 13\n",
    "max_turns = 50\n",
    "\n",
    "\n",
    "# 추론 환경\n",
    "main_model = PPO.load(\"./gomoku_ppo_selfplay_final.zip\")\n",
    "eval_env = GomokuSelfPlayEnv(board_size=board_size, max_turns = max_turns)\n",
    "updated_opponent_model = PPO.load(\"./temp_main_model_ppo.zip\")\n",
    "eval_env.set_opponent_model(updated_opponent_model)\n",
    "\n",
    "obs, info = eval_env.reset()\n",
    "done = False"
   ]
  },
  {
   "cell_type": "code",
   "execution_count": 37,
   "id": "6b5209f2",
   "metadata": {},
   "outputs": [
    {
     "name": "stdout",
     "output_type": "stream",
     "text": [
      "[[0 0 0 0 0 0 0 0 0 0 0 0 0]\n",
      " [0 0 0 0 0 0 0 0 0 0 0 0 0]\n",
      " [0 0 0 0 0 0 0 0 0 0 0 0 0]\n",
      " [0 0 0 0 0 0 0 0 0 0 0 0 0]\n",
      " [0 0 0 0 0 0 1 0 0 0 0 0 0]\n",
      " [0 0 0 2 2 2 0 0 0 0 0 0 0]\n",
      " [0 2 2 1 1 1 2 0 0 0 0 0 0]\n",
      " [0 0 0 2 2 1 0 0 0 0 0 0 0]\n",
      " [0 0 2 1 1 1 1 0 0 0 0 0 0]\n",
      " [0 0 0 0 0 1 0 2 0 0 0 0 0]\n",
      " [0 0 0 0 0 1 0 0 0 0 0 0 0]\n",
      " [0 0 0 0 0 0 0 0 0 0 0 0 0]\n",
      " [0 0 0 0 0 0 0 0 0 0 0 0 0]]\n",
      "[135]\n",
      "[10] [5]\n",
      "100.0\n",
      "True\n"
     ]
    }
   ],
   "source": [
    "action, _states = main_model.predict(obs)\n",
    "obs, reward, done, truncated, info = eval_env.step(action)\n",
    "eval_env.render()\n",
    "print(action)\n",
    "row, col = divmod(action, 13)\n",
    "print(row, col)\n",
    "print(reward)\n",
    "print(done)"
   ]
  },
  {
   "cell_type": "code",
   "execution_count": null,
   "id": "b41e9e34",
   "metadata": {},
   "outputs": [],
   "source": []
  }
 ],
 "metadata": {
  "kernelspec": {
   "display_name": "dqn",
   "language": "python",
   "name": "python3"
  },
  "language_info": {
   "codemirror_mode": {
    "name": "ipython",
    "version": 3
   },
   "file_extension": ".py",
   "mimetype": "text/x-python",
   "name": "python",
   "nbconvert_exporter": "python",
   "pygments_lexer": "ipython3",
   "version": "3.10.18"
  }
 },
 "nbformat": 4,
 "nbformat_minor": 5
}
